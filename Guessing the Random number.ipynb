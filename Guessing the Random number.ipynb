{
 "cells": [
  {
   "cell_type": "code",
   "execution_count": 2,
   "id": "b849bd0b",
   "metadata": {},
   "outputs": [
    {
     "name": "stdout",
     "output_type": "stream",
     "text": [
      "enter the nuber: 101\n",
      "no negative or above 100 value is not accepted\n",
      "guess the number: 100\n",
      "ur guessing number is above the number\n",
      "1 total attempt\n",
      "guess the number: 23\n",
      "ur guessing number is below the number\n",
      "2 total attempt\n",
      "guess the number: 90\n",
      "ur guessing number is below the number\n",
      "3 total attempt\n",
      "guess the number: 95\n",
      "ur guessing number is below the number\n",
      "4 total attempt\n",
      "guess the number: 99\n",
      "ur guessing number is above the number\n",
      "5 total attempt\n",
      "guess the number: 97\n",
      "ur guessing number is above the number\n",
      "6 total attempt\n",
      "guess the number: 96\n",
      "u are correct\n"
     ]
    }
   ],
   "source": [
    "# This is a sample Python script.\n",
    "import random\n",
    "\n",
    "\n",
    "top_of_the_range = input(\"enter the nuber: \")\n",
    "number_of_attempt = 0\n",
    "\n",
    "if top_of_the_range.isdigit():\n",
    "    top_of_the_range = int(top_of_the_range)\n",
    "else:\n",
    "    print(\"enter the number next time\")\n",
    "    quit()\n",
    "if top_of_the_range <= 0 or top_of_the_range > 100 :\n",
    "    print('no negative or above 100 value is not accepted')\n",
    "\n",
    "\n",
    "random_number = random.randint(0, top_of_the_range)\n",
    "\n",
    "\n",
    "while True:\n",
    "    number_of_attempt += 1\n",
    "    guess_the_number = input('guess the number: ')\n",
    "    if guess_the_number.isdigit():\n",
    "        guess_the_number = int(guess_the_number)\n",
    "    else:\n",
    "        print(\"enter the number \")\n",
    "        continue\n",
    "\n",
    "    if random_number == guess_the_number :\n",
    "\n",
    "        print(\"u are correct\")\n",
    "        break\n",
    "\n",
    "    elif random_number <= guess_the_number :\n",
    "        print(\"ur guessing number is above the number\")\n",
    "\n",
    "    elif random_number >= guess_the_number :\n",
    "        print(\"ur guessing number is below the number\")\n",
    "\n",
    "    else:\n",
    "        print(\"number is out of the range\")\n",
    "\n",
    "\n",
    "    print(number_of_attempt, \"total attempt\")\n",
    "\n",
    "\n"
   ]
  },
  {
   "cell_type": "code",
   "execution_count": null,
   "id": "d4f98e34",
   "metadata": {},
   "outputs": [],
   "source": []
  }
 ],
 "metadata": {
  "kernelspec": {
   "display_name": "Python 3 (ipykernel)",
   "language": "python",
   "name": "python3"
  },
  "language_info": {
   "codemirror_mode": {
    "name": "ipython",
    "version": 3
   },
   "file_extension": ".py",
   "mimetype": "text/x-python",
   "name": "python",
   "nbconvert_exporter": "python",
   "pygments_lexer": "ipython3",
   "version": "3.9.12"
  }
 },
 "nbformat": 4,
 "nbformat_minor": 5
}
